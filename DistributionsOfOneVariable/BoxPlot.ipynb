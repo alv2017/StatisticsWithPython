{
 "cells": [
  {
   "cell_type": "markdown",
   "id": "dd8d71f3",
   "metadata": {},
   "source": [
    "<div style=\"display:block; margin-bottom:50px\">\n",
    "<h1 style=\"margin-bottom:25px; font-size:3.5rem;color:#4c76ce;text-align:center;\">\n",
    "    Statistics with Python</h1>\n",
    "    \n",
    "<h2 style=\"margin-bottom: 25px;font-size:2.5rem;text-align:center;\">\n",
    "    Box Plot: Tukey's Five Number Summary</h2>\n",
    "       \n",
    "<img src=\"https://raw.githubusercontent.com/alv2017/StatisticsWithPython/master/Images/statistics.png\"\n",
    "     style=\"position:absolute;top:10px;left:45px;height:150px;width:auto;margin-bottom:35px;\">\n",
    "</div>"
   ]
  },
  {
   "cell_type": "markdown",
   "id": "a89c3119",
   "metadata": {},
   "source": [
    "## Box Plot"
   ]
  },
  {
   "cell_type": "markdown",
   "id": "ee96a00f",
   "metadata": {},
   "source": [
    "The box plot was the first time introduced in 1970 by John Tukey, an American mathematician and statistician.\n",
    "\n",
    "The box plot visualizes a five-number distribution summary which consists of\n",
    "<blockquote>\n",
    "\n",
    "- **Minimum**: the lowest data point in the data set excluding any outliers\n",
    "\n",
    "\n",
    "- **First Quartile**: the value under which 25% of data points are found when they are arranged in increasing order.\n",
    "\n",
    "\n",
    "- **Median**: the middle number in a sorted dataset, 50% of data points are smaller that the median, and another 50% of data points are larger than the median.\n",
    "\n",
    "\n",
    "- **Third Quartilie**: the value under which 75% of data points are found when they are arranged in increasing order.\n",
    "\n",
    "\n",
    "- **Minimum**: the highest data point in the data set excluding any outliers\n",
    "\n",
    "</blockquote>\n",
    "\n",
    "A box-plot usually includes two parts, a box and a set of whiskers. The box is drawn from Q1 to Q3 with a horizontal line drawn in the middle to denote the median. \n",
    "\n",
    "The whiskers can be defined in various ways. In the most straight-forward method, the boundary of the lower whisker is the minimum value of the data set, and the boundary of the upper whisker is the maximum value of the data set. \n",
    "\n",
    "Another popular choice for the boundaries of the whiskers is based on the 1.5*IQR value. From above the upper quartile (Q3), a distance of 1.5 times the IQR is measured out and a whisker is drawn up to the largest observed data point from the dataset that falls within this distance. Similarly, a distance of 1.5 times the IQR is measured out below the lower quartile (Q1) and a whisker is drawn down to the lowest observed data point from the dataset that falls within this distance. Because the whiskers must end at an observed data point, the whisker lengths can look unequal, even though 1.5 IQR is the same for both sides. All other observed data points outside the boundary of the whiskers are plotted as outliers."
   ]
  },
  {
   "cell_type": "markdown",
   "id": "3a92c3ea",
   "metadata": {},
   "source": [
    "<blockquote>\n",
    "    \n",
    "**Interquartile Range (IQR)** is the distance between the upper and the lower quartiles:\n",
    "    \n",
    "$$ IQR = Q_3 - Q_1 $$\n",
    "    \n",
    "</blockquote>    "
   ]
  },
  {
   "cell_type": "code",
   "execution_count": 80,
   "id": "ed323d8c",
   "metadata": {},
   "outputs": [
    {
     "name": "stdout",
     "output_type": "stream",
     "text": [
      "[10, 11, 12, 25, 25, 27, 31, 33, 34, 34, 35, 36, 43, 50, 59]\n",
      "Minimum: 10\n",
      "Maximum: 59\n",
      "1st Quartile (Q1): 25.0\n",
      "Mean: 31.0\n",
      "Median: 33.0\n",
      "3rd Quartile (Q3): 35.5\n"
     ]
    },
    {
     "data": {
      "image/png": "[encoded data removed]",
      "text/plain": [
       "<Figure size 1008x360 with 1 Axes>"
      ]
     },
     "metadata": {
      "needs_background": "light"
     },
     "output_type": "display_data"
    }
   ],
   "source": [
    "## Example:\n",
    "import numpy as np\n",
    "from matplotlib import pyplot as plt\n",
    "from matplotlib.ticker import AutoMinorLocator\n",
    "\n",
    "# Matplotlib Settings\n",
    "plt.rcParams[\"font.family\"] = \"sans-serif\"\n",
    "plt.rcParams[\"font.sans-serif\"] = \"Liberation Sans Narrow\"\n",
    "\n",
    "data = np.array([34, 10, 34, 25, 50, 11, 35, 27, 12, 36, 43, 31, 59, 25, 33])\n",
    "\n",
    "print(sorted(data))\n",
    "\n",
    "# Min\n",
    "print(\"Minimum:\", data.min())\n",
    "\n",
    "# Max\n",
    "print(\"Maximum:\", data.max())\n",
    "\n",
    "# First Qurtile\n",
    "print(\"1st Quartile (Q1):\", np.percentile(data, 25))\n",
    "\n",
    "# Mean\n",
    "print(\"Mean:\", np.mean(data))\n",
    "\n",
    "# Median\n",
    "print(\"Median:\", np.median(data))\n",
    "\n",
    "# Third Quartile\n",
    "print(\"3rd Quartile (Q3):\", np.percentile(data, 75))\n",
    "\n",
    "# Box Plot\n",
    "plt.figure(figsize=(14, 5))\n",
    "plt.title(\"\\nBox Plot\\n\", \n",
    "          color=\"#024D8C\",\n",
    "          pad=25, loc=\"center\", fontsize=32, fontweight=\"normal\")\n",
    "\n",
    "bp = plt.boxplot(data, \n",
    "                 widths=[0.7],\n",
    "                 vert=False, \n",
    "                 boxprops=dict(facecolor=\"#5d61a2\", color=\"#5d61a2\"),\n",
    "                 capprops=dict(color=\"#5d61a2\", linewidth=3),\n",
    "                 whiskerprops=dict(color=\"#5d61a2\", linewidth=3),\n",
    "                 flierprops=dict(markeredgecolor=\"#d598a0\",\n",
    "                                 markerfacecolor=\"#d598a0\", \n",
    "                                 markersize=10),\n",
    "                 medianprops=dict(color=\"white\", linewidth=2),\n",
    "                 meanprops=dict(color=\"white\", linewidth=1, linestyle=\"dashed\"),\n",
    "                 patch_artist=True, \n",
    "                 meanline=True, showmeans=True\n",
    "                )\n",
    "\n",
    "## Plot Axis \n",
    "plt.xlabel(\"\\nX\\n\", fontsize=18, color=\"#236477\")\n",
    "plt.ylabel(\"\\nY\\n\", fontsize=18, color=\"#236477\")\n",
    "\n",
    "plt.xticks(np.arange(0, 62, step=2), fontsize=16, color=\"#236477\")\n",
    "plt.yticks(fontsize=16, color=\"#236477\")\n",
    "\n",
    "plt.grid(axis=\"x\")\n",
    "\n",
    "plt.show()"
   ]
  },
  {
   "cell_type": "markdown",
   "id": "9703faee",
   "metadata": {},
   "source": [
    "## Outliers"
   ]
  },
  {
   "cell_type": "markdown",
   "id": "04942191",
   "metadata": {},
   "source": [
    "There is no unique definition for outliers. However for normally distributed samples they are often defined as data that lie more than $1.5*IQR$ or more than two standard deviations, from the sample mean.\n",
    "\n",
    "Outliers are either caused by some mistake or they constitute very important and valuable points of data.\n",
    "\n",
    "The outliers can be eliminated from the analysis data set only if an underlying problem that caused mistakes has been detected. Otherwise, outliers have to be kept."
   ]
  },
  {
   "cell_type": "code",
   "execution_count": null,
   "id": "5f2260e3",
   "metadata": {},
   "outputs": [],
   "source": []
  }
 ],
 "metadata": {
  "kernelspec": {
   "display_name": "Python 3 (ipykernel)",
   "language": "python",
   "name": "python3"
  },
  "language_info": {
   "codemirror_mode": {
    "name": "ipython",
    "version": 3
   },
   "file_extension": ".py",
   "mimetype": "text/x-python",
   "name": "python",
   "nbconvert_exporter": "python",
   "pygments_lexer": "ipython3",
   "version": "3.10.4"
  }
 },
 "nbformat": 4,
 "nbformat_minor": 5
}
